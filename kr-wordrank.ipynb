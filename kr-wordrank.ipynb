{
 "cells": [
  {
   "cell_type": "code",
   "execution_count": 1,
   "metadata": {},
   "outputs": [],
   "source": [
    "import pandas as pd\n",
    "import os, sys\n",
    "from txt_preprocess import *"
   ]
  },
  {
   "cell_type": "code",
   "execution_count": 3,
   "metadata": {},
   "outputs": [
    {
     "data": {
      "text/plain": [
       "(13508, 12)"
      ]
     },
     "execution_count": 3,
     "metadata": {},
     "output_type": "execute_result"
    }
   ],
   "source": [
    "data = pd.read_excel('../data_all.xlsx')\n",
    "data.pdf = data.pdf.astype(str)\n",
    "del data['text']\n",
    "data.shape"
   ]
  },
  {
   "cell_type": "code",
   "execution_count": 4,
   "metadata": {},
   "outputs": [
    {
     "name": "stdout",
     "output_type": "stream",
     "text": [
      " reading 666th"
     ]
    },
    {
     "data": {
      "text/plain": [
       "666"
      ]
     },
     "execution_count": 4,
     "metadata": {},
     "output_type": "execute_result"
    }
   ],
   "source": [
    "texts = txt_preprocess(crpname)\n",
    "len(texts)"
   ]
  },
  {
   "cell_type": "code",
   "execution_count": 5,
   "metadata": {},
   "outputs": [
    {
     "data": {
      "text/plain": [
       "(664, 13)"
      ]
     },
     "execution_count": 5,
     "metadata": {},
     "output_type": "execute_result"
    }
   ],
   "source": [
    "data = pd.merge(data, texts, on='pdf', how='left')\n",
    "data.shape"
   ]
  },
  {
   "cell_type": "code",
   "execution_count": 3,
   "metadata": {},
   "outputs": [
    {
     "ename": "NameError",
     "evalue": "name 'data' is not defined",
     "output_type": "error",
     "traceback": [
      "\u001b[0;31m---------------------------------------------------------------------------\u001b[0m",
      "\u001b[0;31mNameError\u001b[0m                                 Traceback (most recent call last)",
      "\u001b[0;32m<ipython-input-3-5e830759f67d>\u001b[0m in \u001b[0;36m<module>\u001b[0;34m\u001b[0m\n\u001b[0;32m----> 1\u001b[0;31m \u001b[0ma\u001b[0m \u001b[0;34m=\u001b[0m \u001b[0;34m(\u001b[0m\u001b[0mdata\u001b[0m\u001b[0;34m.\u001b[0m\u001b[0mclose_val2\u001b[0m \u001b[0;34m-\u001b[0m \u001b[0mdata\u001b[0m\u001b[0;34m.\u001b[0m\u001b[0mclose_val\u001b[0m\u001b[0;34m)\u001b[0m\u001b[0;34m/\u001b[0m\u001b[0mdata\u001b[0m\u001b[0;34m.\u001b[0m\u001b[0mclose_val\u001b[0m\u001b[0;34m\u001b[0m\u001b[0;34m\u001b[0m\u001b[0m\n\u001b[0m\u001b[1;32m      2\u001b[0m \u001b[0mb\u001b[0m \u001b[0;34m=\u001b[0m \u001b[0mnp\u001b[0m\u001b[0;34m.\u001b[0m\u001b[0mwhere\u001b[0m\u001b[0;34m(\u001b[0m\u001b[0ma\u001b[0m\u001b[0;34m>\u001b[0m\u001b[0;36m0.03\u001b[0m\u001b[0;34m,\u001b[0m \u001b[0;34m'up'\u001b[0m\u001b[0;34m,\u001b[0m \u001b[0;34m(\u001b[0m\u001b[0ma\u001b[0m\u001b[0;34m>=\u001b[0m \u001b[0;34m-\u001b[0m\u001b[0;36m0.03\u001b[0m\u001b[0;34m,\u001b[0m \u001b[0;34m'neu'\u001b[0m\u001b[0;34m)\u001b[0m\u001b[0;34m,\u001b[0m \u001b[0;34m'down'\u001b[0m\u001b[0;34m)\u001b[0m\u001b[0;34m\u001b[0m\u001b[0;34m\u001b[0m\u001b[0m\n",
      "\u001b[0;31mNameError\u001b[0m: name 'data' is not defined"
     ]
    }
   ],
   "source": [
    "a = (data.close_val2 - data.close_val)/data.close_val\n",
    "b = np.where(a>0.03, 'up', (a>= -0.03, 'neu'), 'down')"
   ]
  },
  {
   "cell_type": "code",
   "execution_count": 7,
   "metadata": {},
   "outputs": [
    {
     "data": {
      "text/plain": [
       "up      239\n",
       "neu     214\n",
       "down    206\n",
       "dtype: int64"
      ]
     },
     "execution_count": 7,
     "metadata": {},
     "output_type": "execute_result"
    }
   ],
   "source": [
    "b.value_counts()"
   ]
  },
  {
   "cell_type": "code",
   "execution_count": 8,
   "metadata": {},
   "outputs": [],
   "source": [
    "data['label'] = b"
   ]
  },
  {
   "cell_type": "code",
   "execution_count": 9,
   "metadata": {},
   "outputs": [
    {
     "data": {
      "text/html": [
       "<div>\n",
       "<style scoped>\n",
       "    .dataframe tbody tr th:only-of-type {\n",
       "        vertical-align: middle;\n",
       "    }\n",
       "\n",
       "    .dataframe tbody tr th {\n",
       "        vertical-align: top;\n",
       "    }\n",
       "\n",
       "    .dataframe thead th {\n",
       "        text-align: right;\n",
       "    }\n",
       "</style>\n",
       "<table border=\"1\" class=\"dataframe\">\n",
       "  <thead>\n",
       "    <tr style=\"text-align: right;\">\n",
       "      <th></th>\n",
       "      <th>date</th>\n",
       "      <th>kapital</th>\n",
       "      <th>title</th>\n",
       "      <th>comment</th>\n",
       "      <th>price</th>\n",
       "      <th>pdf</th>\n",
       "      <th>close_val</th>\n",
       "      <th>change_val</th>\n",
       "      <th>date2</th>\n",
       "      <th>close_val2</th>\n",
       "      <th>change_val2</th>\n",
       "      <th>itemname</th>\n",
       "      <th>label</th>\n",
       "    </tr>\n",
       "  </thead>\n",
       "  <tbody>\n",
       "    <tr>\n",
       "      <th>3</th>\n",
       "      <td>2019-05-02</td>\n",
       "      <td>이베스트증권</td>\n",
       "      <td>방향을 제시하다</td>\n",
       "      <td>Buy</td>\n",
       "      <td>58000</td>\n",
       "      <td>1556759909920</td>\n",
       "      <td>45900.0</td>\n",
       "      <td>50.0</td>\n",
       "      <td>2019-06-02</td>\n",
       "      <td>NaN</td>\n",
       "      <td>NaN</td>\n",
       "      <td>삼성전자</td>\n",
       "      <td>NaN</td>\n",
       "    </tr>\n",
       "    <tr>\n",
       "      <th>4</th>\n",
       "      <td>2019-04-09</td>\n",
       "      <td>DB금융투자</td>\n",
       "      <td>예고된 실적 부진</td>\n",
       "      <td>Buy</td>\n",
       "      <td>57000</td>\n",
       "      <td>1554776511972</td>\n",
       "      <td>46650.0</td>\n",
       "      <td>NaN</td>\n",
       "      <td>2019-05-09</td>\n",
       "      <td>42450.0</td>\n",
       "      <td>-1800.0</td>\n",
       "      <td>삼성전자</td>\n",
       "      <td>down</td>\n",
       "    </tr>\n",
       "    <tr>\n",
       "      <th>5</th>\n",
       "      <td>2019-04-08</td>\n",
       "      <td>키움증권</td>\n",
       "      <td>수요 충격에서 벗어나기 시작한 반도체 업황</td>\n",
       "      <td>Buy</td>\n",
       "      <td>52000</td>\n",
       "      <td>1554693541445</td>\n",
       "      <td>46650.0</td>\n",
       "      <td>-200.0</td>\n",
       "      <td>2019-05-08</td>\n",
       "      <td>44250.0</td>\n",
       "      <td>-600.0</td>\n",
       "      <td>삼성전자</td>\n",
       "      <td>down</td>\n",
       "    </tr>\n",
       "    <tr>\n",
       "      <th>6</th>\n",
       "      <td>2019-04-08</td>\n",
       "      <td>미래에셋대우</td>\n",
       "      <td>높아지는 주주 환원 기대감 Vs. 1H19 부진</td>\n",
       "      <td>Buy</td>\n",
       "      <td>56000</td>\n",
       "      <td>1554692918116</td>\n",
       "      <td>46650.0</td>\n",
       "      <td>-200.0</td>\n",
       "      <td>2019-05-08</td>\n",
       "      <td>44250.0</td>\n",
       "      <td>-600.0</td>\n",
       "      <td>삼성전자</td>\n",
       "      <td>down</td>\n",
       "    </tr>\n",
       "    <tr>\n",
       "      <th>7</th>\n",
       "      <td>2019-04-08</td>\n",
       "      <td>DB금융투자</td>\n",
       "      <td>예고된 실적 부진</td>\n",
       "      <td>Buy</td>\n",
       "      <td>57000</td>\n",
       "      <td>1554690698993</td>\n",
       "      <td>46650.0</td>\n",
       "      <td>-200.0</td>\n",
       "      <td>2019-05-08</td>\n",
       "      <td>44250.0</td>\n",
       "      <td>-600.0</td>\n",
       "      <td>삼성전자</td>\n",
       "      <td>down</td>\n",
       "    </tr>\n",
       "  </tbody>\n",
       "</table>\n",
       "</div>"
      ],
      "text/plain": [
       "        date kapital                       title comment  price  \\\n",
       "3 2019-05-02  이베스트증권                    방향을 제시하다     Buy  58000   \n",
       "4 2019-04-09  DB금융투자                   예고된 실적 부진     Buy  57000   \n",
       "5 2019-04-08    키움증권     수요 충격에서 벗어나기 시작한 반도체 업황     Buy  52000   \n",
       "6 2019-04-08  미래에셋대우  높아지는 주주 환원 기대감 Vs. 1H19 부진     Buy  56000   \n",
       "7 2019-04-08  DB금융투자                   예고된 실적 부진     Buy  57000   \n",
       "\n",
       "             pdf  close_val  change_val      date2  close_val2  change_val2  \\\n",
       "3  1556759909920    45900.0        50.0 2019-06-02         NaN          NaN   \n",
       "4  1554776511972    46650.0         NaN 2019-05-09     42450.0      -1800.0   \n",
       "5  1554693541445    46650.0      -200.0 2019-05-08     44250.0       -600.0   \n",
       "6  1554692918116    46650.0      -200.0 2019-05-08     44250.0       -600.0   \n",
       "7  1554690698993    46650.0      -200.0 2019-05-08     44250.0       -600.0   \n",
       "\n",
       "  itemname label  \n",
       "3     삼성전자   NaN  \n",
       "4     삼성전자  down  \n",
       "5     삼성전자  down  \n",
       "6     삼성전자  down  \n",
       "7     삼성전자  down  "
      ]
     },
     "execution_count": 9,
     "metadata": {},
     "output_type": "execute_result"
    }
   ],
   "source": [
    "data[list(data.columns[:-2].append(data.columns[-1:]))][3:8] # text"
   ]
  },
  {
   "cell_type": "code",
   "execution_count": 10,
   "metadata": {},
   "outputs": [
    {
     "name": "stdout",
     "output_type": "stream",
     "text": [
      "(653, 3)\n"
     ]
    }
   ],
   "source": [
    "df = data[['pdf','text','label']].dropna()\n",
    "df.reset_index(drop=True, inplace=True)\n",
    "print(df.shape)"
   ]
  },
  {
   "cell_type": "code",
   "execution_count": 11,
   "metadata": {},
   "outputs": [
    {
     "data": {
      "text/html": [
       "<div>\n",
       "<style scoped>\n",
       "    .dataframe tbody tr th:only-of-type {\n",
       "        vertical-align: middle;\n",
       "    }\n",
       "\n",
       "    .dataframe tbody tr th {\n",
       "        vertical-align: top;\n",
       "    }\n",
       "\n",
       "    .dataframe thead th {\n",
       "        text-align: right;\n",
       "    }\n",
       "</style>\n",
       "<table border=\"1\" class=\"dataframe\">\n",
       "  <thead>\n",
       "    <tr style=\"text-align: right;\">\n",
       "      <th></th>\n",
       "      <th>pdf</th>\n",
       "      <th>text</th>\n",
       "      <th>label</th>\n",
       "    </tr>\n",
       "  </thead>\n",
       "  <tbody>\n",
       "    <tr>\n",
       "      <th>0</th>\n",
       "      <td>1554776511972</td>\n",
       "      <td>삼성전자 유지 목표주가 유지 원 현재주가 원 기업분석 반도체 .예고된 실적 부진 ...</td>\n",
       "      <td>down</td>\n",
       "    </tr>\n",
       "    <tr>\n",
       "      <th>1</th>\n",
       "      <td>1554693541445</td>\n",
       "      <td>목표주가 원 주가 원 시가총액 억원 반도체 디스플레이 박유악 .주 주가동향 최고 ...</td>\n",
       "      <td>down</td>\n",
       "    </tr>\n",
       "    <tr>\n",
       "      <th>2</th>\n",
       "      <td>1554692918116</td>\n",
       "      <td>삼성전자 높아지는 주주 환원 기대감 . 부진 영업 잠정 실적 발표 영업이익 조원 ...</td>\n",
       "      <td>down</td>\n",
       "    </tr>\n",
       "    <tr>\n",
       "      <th>3</th>\n",
       "      <td>1554690698993</td>\n",
       "      <td>삼성전자 유지 목표주가 유지 원 현재주가 원 기업분석 반도체 .예고된 실적 부진 ...</td>\n",
       "      <td>down</td>\n",
       "    </tr>\n",
       "    <tr>\n",
       "      <th>4</th>\n",
       "      <td>1554689532218</td>\n",
       "      <td>기업분석 반도체 디스플레이 어규진 삼성전자 예고된 실적 부진 분기 예고된 실적 부...</td>\n",
       "      <td>down</td>\n",
       "    </tr>\n",
       "  </tbody>\n",
       "</table>\n",
       "</div>"
      ],
      "text/plain": [
       "             pdf                                               text label\n",
       "0  1554776511972   삼성전자 유지 목표주가 유지 원 현재주가 원 기업분석 반도체 .예고된 실적 부진 ...  down\n",
       "1  1554693541445   목표주가 원 주가 원 시가총액 억원 반도체 디스플레이 박유악 .주 주가동향 최고 ...  down\n",
       "2  1554692918116   삼성전자 높아지는 주주 환원 기대감 . 부진 영업 잠정 실적 발표 영업이익 조원 ...  down\n",
       "3  1554690698993   삼성전자 유지 목표주가 유지 원 현재주가 원 기업분석 반도체 .예고된 실적 부진 ...  down\n",
       "4  1554689532218   기업분석 반도체 디스플레이 어규진 삼성전자 예고된 실적 부진 분기 예고된 실적 부...  down"
      ]
     },
     "execution_count": 11,
     "metadata": {},
     "output_type": "execute_result"
    }
   ],
   "source": [
    "df.head()"
   ]
  },
  {
   "cell_type": "code",
   "execution_count": 87,
   "metadata": {
    "collapsed": true,
    "jupyter": {
     "outputs_hidden": true
    }
   },
   "outputs": [
    {
     "data": {
      "text/plain": [
       "' 삼성전자 높아지는 주주 환원 기대감 Vs. H 부진 영업 잠정 실적 발표 영업이익 조원 YoY oQ 삼성전자의 영업 잠정 실적이 공시되었다. 매출액 조원 YoY oQ 영업이익 조원 YoY oQ 이다. 당사 추정 매출액 조원과 추 정 영업이익 조원 시장 기대 매출액 조원과 시장 기대 영업이익 조원에 미달했다. 사업별 추정 영업이익은 C 부문 TV 가전 조원 기존 추정치 조원 IM 부문 스마트 폰 조원 기존 추정치 조원 반도체 조원 기존 추정치 조원 디스플레이 패널 조원 기존 추정치 조원 이다. 반도체 디스플레이 부진 스마트폰 가전 견조 반도체 부분의 경우 전반적인 가격 하락에도 불구하고 수요의 회복은 크지 않았던 것으로 판 단된다. 주목해야 할 부분은 DRAM재고다. 일부 Mobile DRAM 출하 증가에도 불구하고 PC Server DRAM의 수요 부진으로 Bit Growth는 를 기록했을 것으로 추정한다. 경쟁 사에 비해 판매수량 감소 폭이 컸기 때문에 oQ 수량 감소는 곧 재고 증가를 의미한다. NAND의 ASP 하락폭도 예상보다 컸을 것으로 추정한다. TB LC SSD기준 제품 소매가격 은 월부터 하락하기 시작해 하락했다. 동사의 주도로 Client SSD에서의 가격 경쟁이 진행 중인 것으로 판단된다. 그럼에도 불구하고 HDD의 단위 용량당 가격차이는 배 이상으 로 대체 수요를 촉진 시키기에는 추가적인 가격 하락이 불가피 하다. IM 부문은 무난했다고 판단된다. 갤럭시 S 시리즈가 출시되었고 A 시리즈 판매가 호조를 보이고 있다. 다만 판매 수량 증가에도 대폭적인 수익성 개선을 기대하긴 어렵다고 판단된 다. 지금은 시장점유율 확대가 우선이기 때문이다. 수익성 개선 효과는 년부터 나타날 것으로 예상한다. C 부분은 견조한 실적을 기록한 것으로 추정된다. 공기청정기 등 판매가 호조를 보이고 L D TV 판매도 양호한 상태이기 때문이다. 디스플레이는 적자 전환한 것으로 추정된다 조원 . LCD 패널가격 하락과 애플향 OL D 물량 감소 때문이다. A 라인 가동 시작으로 감가상각비 반영도 시작된 것으로 판단된다. 투자의견 매수 및 개월 목표주가 원 유지 자세한 실적 분석 및 추정 변경은 월 일 예정 실적 발표 이후 반영할 계획이다. 반도체 부 진이 지속될 가능성이 존재하나 주주 환원에 대한 기대가 주가의 하방 경직성을 만들어 줄 것이란 점을 고려하여 투자의견 매수 및 목표주가 원을 유지한다. 중장기 관점에서 분할 매수 전략이 유효하다. 결산기 월 매출액 십억원 영업이익 십억원 영업이익률 순이익 십억원 PS 원 RO P 배 P B 배 배당수익률 주 K I RS 연결 기준 순이익은 지배주주 귀속 순이익 자료 삼성전자 미래에셋대우 리서치센터 반도체 단말기 Company Report . 투자의견 유지 목표주가 M유지 현재주가 상승여력 매수 원 원 영업이익 십억원 Consensus 영업이익 십억원 PS 성장률 MKT PS 성장률 P MKT P KOSPI 시가총액 십억원 발행주식수 백만주 유동주식비율 외국인 보유비중 베타 M 일간수익률 주 최저가 원 주 최고가 원 주가상승률 절대주가 상대주가 개월 개월 개월 삼성전자 KOSPI 모바일 부품 박원재 william.park miraeasset.com 김철중 chuljoong.kim miraeasset.com 김영건 younggun.kim.a miraeasset.com 삼성전자 높아지는 주주 환원 기대감 Vs. H 부진 삼성전자 주요 실적 테이블 및 주요 차트 표 . 삼성전자 잠정실적 조원 구분 매출액 영업이익 C IM Semiconductor Display P 잠정실적 기존추정 차이 시장추정 차이 oQ YoY 주 부분별 잠정 영업이익은 추정치. 시장추정은 nGuide 자료 삼성전자 미래에셋대우 리서치센터 그림 . 삼성전자 주가 일봉 그림 . 삼성전자 주가 주봉 자료 미래에셋대우 리서치센터 그림 . PBR Band 그림 . V BITDA Band 자료 미래에셋대우 리서치센터 그림 . P R Band 원 원 원 자료 미래에셋대우 리서치센터 자료 미래에셋대우 리서치센터 자료 미래에셋대우 리서치센터 Mirae Asset Daewoo Research 삼성전자 높아지는 주주 환원 기대감 Vs. H 부진 국내 IT 대형주 표 . 국내 IT 대형주 실적 관련 지표 Global peer group 십억원 주가상승률 M M 시가총액 매출액 영업이익 영업이익률 순이익 한화에어로스페이스 IT대형주 평균 자료 Bloomberg 미래에셋대우 리서치센터 표 . 국내 IT 대형주 주가 관련 지표 RO P R PBR V BITDA 배 회사명 삼성전자 LG전자 LG디스플레이 삼성SDI SK하이닉스 삼성전기 LG이노텍 회사명 삼성전자 LG전자 LG디스플레이 삼성SDI SK하이닉스 삼성전기 LG이노텍 한화에어로스페이스 IT대형주 평균 자료 Bloomberg 미래에셋대우 리서치센터 그림 . 국내 IT 대형주 PBR RO 비교 그림 . 국내 IT 대형주 V BITDA BITDA Growth 비교 PBR 배 V BITDA 삼성전기 삼성SDI 삼성전자 LG이노텍 한화에어로 스페이스 SK하이닉스 LG전자 LG디스플레이 RO 한화에어로 스페이스 삼성SDI 삼성전자 LG이노텍 삼성전기 LG디스플레이 LG전자 SK하이닉스 BITDA growth 자료 Bloomberg 미래에셋대우 리서치센터 자료 Bloomberg 미래에셋대우 리서치센터 Mirae Asset Daewoo Research 삼성전자 높아지는 주주 환원 기대감 Vs. H 부진 글로벌 가전 업체 표 . 글로벌 가전 업체 실적 관련 지표 십억원 회사명 삼성전자 LG전자 PHILIPS 주가상승률 M M 시가총액 매출액 영업이익 영업이익률 순이익 L CTROLUX WHIRLPOOL PANASONIC SONY HITACHI 가전 평균 주 PANNASONIC SONY HITACHI는 월 일 결산 자료 Bloomberg 미래에셋대우 리서치센터 표 . 글로벌 가전 업체 주가 관련 지표 배 회사명 삼성전자 LG전자 PHILIPS L CTROLUX WHIRLPOOL PANASONIC SONY HITACHI 가전 평균 RO P R PBR V BITDA 주 PANNASONIC SONY HITACHI는 월 일 결산 자료 Bloomberg 미래에셋대우 리서치센터 그림 . 글로벌 가전 업체 PBR RO 비교 그림 . 글로벌 가전 업체 V BITDA BITDA Growth 비교 PBR 배 V BITDA PHILIPS L CTROLUX 삼성전자 PANASONIC SONY HITACHI LG전자 RO 삼성전자 PHILIPS WHIRLPOOL L CTROLUX PANASONIC HITACHI SONY LG전자 BITDA growth 자료 Bloomberg 미래에셋대우 리서치센터 자료 Bloomberg 미래에셋대우 리서치센터 Mirae Asset Daewoo Research 삼성전자 LG전자 APPL Lenovo ZT HTC 회사명 삼성전자 LG전자 APPL Lenovo ZT HTC 삼성전자 높아지는 주주 환원 기대감 Vs. H 부진 글로벌 핸드셋 업체 표 . 글로벌 핸드셋 업체 실적 관련 지표 회사명 주가상승률 M M 시가총액 매출액 영업이익 영업이익률 순이익 십억원 핸드셋 평균 주 APPL 은 월말 결산 Lenovo는 월말 결산 자료 Bloomberg 미래에셋대우 리서치센터 표 . 글로벌 핸드셋 업체 주가 관련 지표 배 RO P R PBR V BITDA 핸드셋 평균 주 APPL 은 월말 결산 BlackBerry는 월말 결산 Lenovo는 월말 결산 자료 Bloomberg 미래에셋대우 리서치센터 그림 . 글로벌 핸드셋 업체 PBR RO 비교 그림 . 글로벌 핸드셋 업체 V BITDA BITDA Growth 비교 PBR 배 V BITDA HTC ZT Lenovo 삼성전자 LG전자 RO 삼성전자 ZT APPL Lenovo LG전자 BITDA growth 자료 Bloomberg 미래에셋대우 리서치센터 자료 Bloomberg 미래에셋대우 리서치센터 Mirae Asset Daewoo Research 삼성전자 높아지는 주주 환원 기대감 Vs. H 부진 글로벌 디스플레이 업체 표 . 글로벌 디스플레이 업체 실적 관련 지표 십억원 회사명 주가상승률 M M 시가총액 매출액 영업이익 영업이익률 순이익 삼성전자 LG디스플레이 PANASONIC TOSHIBA SHARP Japan Display AU OPTRONICS INNOLUX 디스플레이 평균 주 PANASONIC TOSHIBA SHARP Japan Display는 월 일 결산 자료 Bloomberg 미래에셋대우 리서치센터 표 . 글로벌 디스플레이 업체 주가 관련 지표 배 회사명 삼성전자 LG디스플레이 PANASONIC TOSHIBA SHARP Japan Display AU OPTRONICS INNOLUX 디스플레이 평균 RO P R PBR V BITDA 주 PANASONIC TOSHIBA SHARP Japan Display는 월 일 결산 자료 Bloomberg 미래에셋대우 리서치센터 그림 . 글로벌 디스플레이 업체 PBR RO 비교 그림 . 글로벌 디스플레이 업체 V BITDA BITDA Growth 비교 PBR 배 V BITDA TOSHIBA SHARP INNOLUX JDI AUO LG디스플레이 삼성전자 PANASONIC LG전자 RO 삼성전자 PHILIPS WHIRLPOOL L CTROLUX PANASONIC HITACHI SONY LG전자 BITDA growth 자료 Bloomberg 미래에셋대우 리서치센터 자료 Bloomberg 미래에셋대우 리서치센터 Mirae Asset Daewoo Research 삼성전자 높아지는 주주 환원 기대감 Vs. H 부진 글로벌 메모리 반도체 업체 표 . 글로벌 메모리 반도체 업체 실적 관련 지표 매출액 영업이익 영업이익률 순이익 십억원 회사명 삼성전자 SK하이닉스 Micron Intel WDC Nanya 주가상승률 M M 시가총액 메모리 평균 자료 Bloomberg 미래에셋대우 리서치센터 표 . 글로벌 메모리 반도체 업체 주가 관련 지표 배 회사명 삼성전자 SK하이닉스 Micron Intel WDC Nanya 메모리 평균 RO P R PBR V BITDA 자료 Bloomberg 미래에셋대우 리서치센터 그림 . 글로벌 메모리 반도체 업체 PBR RO 비교 그림 . 글로벌 메모리 반도체 업체 V BITDA BITDA Growth 비교 PBR 배 V BITDA Intel 삼성전자 WDC Nanya Micron SK하이닉스 RO 삼성전자 Micron SK하이닉스 WDC Intel Nanya BITDA growth 자료 Bloomberg 미래에셋대우 리서치센터 자료 Bloomberg 미래에셋대우 리서치센터 Mirae Asset Daewoo Research 삼성전자 높아지는 주주 환원 기대감 Vs. H 부진 글로벌 비메모리 반도체 업체 표 . 글로벌 비메모리 반도체 업체 실적 관련 지표 십억원 회사명 주가상승률 M M 시가총액 매출액 영업이익 영업이익률 순이익 삼성전자 Intel ualcomm Texas Instrument Broadcom Mediatek NVIDIA AMD 비메모리 평균 자료 Bloomberg 미래에셋대우 리서치센터 표 . 글로벌 비메모리 반도체 업체 주가 관련 지표 회사명 삼성전자 Intel RO ualcomm Texas Instrument Broadcom Mediatek NVIDIA AMD 비메모리 평균 자료 Bloomberg 미래에셋대우 리서치센터 P R PBR V BITDA 배 그림 . 글로벌 비메모리 업체 PBR RO 비교 그림 . 글로벌 비메모리 업체 V BITDA BITDA Growth 비교 PBR 배 V BITDA Texas Instrument AMD NVIDIA Broadcom Intel Mediatek ualcomm 삼성전자 RO NVIDIA AMD Texas Instrument ualcomm Mediatek 삼성전자 Intel Broadcom BITDA growth 자료 Bloomberg 미래에셋대우 리서치센터 자료 Bloomberg 미래에셋대우 리서치센터 Mirae Asset Daewoo Research 삼성전자 높아지는 주주 환원 기대감 Vs. H 부진 그림 . 글로벌 핸드셋 업체 상대주가 추이 I 그림 . 글로벌 핸드셋 업체 상대주가 추이 II 삼성전자 Lenovo LG전자 Apple M . Lenovo HTC ZT M . 자료 Datastream 미래에셋대우 리서치센터 자료 Datastream 미래에셋대우 리서치센터 그림 . 글로벌 가전 업체 상대주가 추이 I 그림 . 글로벌 가전 업체 상대주가 추이 II 삼성전자 PHILIPS LG전자 L CTROLUX M WHIRLPOOL PANASONIC SONY HITACHI Haier M . . 자료 Datastream 미래에셋대우 리서치센터 자료 Datastream 미래에셋대우 리서치센터 그림 . 글로벌 디스플레이 업체 상대주가 추이 I 그림 . 글로벌 디스플레이 업체 상대주가 추이 II 삼성전자 LG디스플레이 SHARP Panasonic M SHARP HANNSTAR AUO BO M Innolu . . 자료 Datastream 미래에셋대우 리서치센터 자료 Datastream 미래에셋대우 리서치센터 Mirae Asset Daewoo Research 삼성전자 높아지는 주주 환원 기대감 Vs. H 부진 그림 . 글로벌 메모리 반도체 업체 상대주가 추이 I 그림 . 글로벌 메모리 반도체 업체 상대주가 추이 II 삼성전자 Intel ualcomm Broadcom M 삼성전자 Mediatek NVIDIA AMD M . . 자료 Datastream 미래에셋대우 리서치센터 자료 Datastream 미래에셋대우 리서치센터 그림 . 글로벌 비메모리 반도체 업체 상대주가 추이 I 그림 . 글로벌 비메모리 반도체 업체 상대주가 추이 II 삼성전자 SK하이닉스 Micron M Intel WDC Nanya M . . 자료 Datastream 미래에셋대우 리서치센터 자료 Datastream 미래에셋대우 리서치센터 Mirae Asset Daewoo Research 삼성전자 높아지는 주주 환원 기대감 Vs. H 부진 삼성전자 예상 포괄손익계산서 요약 십억원 매출액 매출원가 매출총이익 판매비와관리비 조정영업이익 영업이익 비영업손익 금융손익 관계기업등 투자손익 세전계속사업손익 계속사업법인세비용 계속사업이익 중단사업이익 당기순이익 지배주주 비지배주주 총포괄이익 지배주주 비지배주주 BITDA C BITDA 마진율 영업이익률 지배주주귀속 순이익률 예상 현금흐름표 요약 십억원 영업활동으로 인한 현금흐름 당기순이익 비현금수익비용가감 유형자산감가상각비 무형자산상각비 기타 영업활동으로인한자산및부채의변동 매출채권 및 기타채권의 감소 증가 재고자산 감소 증가 매입채무 및 기타채무의 증가 감소 법인세납부 투자활동으로 인한 현금흐름 유형자산처분 취득 무형자산감소 증가 장단기금융자산의 감소 증가 기타투자활동 재무활동으로 인한 현금흐름 장단기금융부채의 증가 감소 자본의 증가 감소 배당금의 지급 기타재무활동 현금의 증가 기초현금 기말현금 자료 삼성전자 미래에셋대우 리서치센터 예상 재무상태표 요약 십억원 유동자산 현금 및 현금성자산 매출채권 및 기타채권 재고자산 기타유동자산 비유동자산 관계기업투자등 유형자산 무형자산 자산총계 유동부채 매입채무 및 기타채무 단기금융부채 기타유동부채 비유동부채 장기금융부채 기타비유동부채 부채총계 지배주주지분 자본금 자본잉여금 이익잉여금 비지배주주지분 자본총계 예상 주당가치 및 valuation 요약 P P C P B V BITDA PS 원 C PS 원 BPS 원 DPS 원 배당성향 배당수익률 매출액증가율 BITDA증가율 조정영업이익증가율 PS증가율 매출채권 회전율 회 재고자산 회전율 회 매입채무 회전율 회 ROA RO ROIC 부채비율 유동비율 순차입금 자기자본 조정영업이익 금융비용 Mirae Asset Daewoo Research 삼성전자 높아지는 주주 환원 기대감 Vs. H 부진 투자의견 및 목표주가 변동추이 제시일자 투자의견 목표주가 원 괴리율 평균주가대비 최고 최저 주가대비 원 삼성전자 매수 매수 매수 매수 매수 매수 매수 삼성전자 . . . . . . . . . . . . . . 괴리율 산정 수정주가 적용 목표주가 대상시점은 년이며 목표주가를 변경하는 경우 해당 조사분석자료의 공표일 전일까지 기간을 대상으로 함 Trading Buy Trading Buy Trading Buy 매수 매수 매수 분석 대상 제외 투자의견 분류 및 적용기준 산업 기업 비중확대 향후 개월 기준 업종지수상승률이 시장수익률 대비 높거나 상승 매수 향후 개월 기준 절대수익률 이상의 초과수익 예상 중립 Trading Buy 향후 개월 기준 절대수익률 이상의 초과수익 예상 비중축소 향후 개월 기준 업종지수상승률이 시장수익률 대비 낮거나 악화 중립 비중축소 매수 Trading Buy 중립 비중축소 주가 목표주가 Not covered 향후 개월 기준 절대수익률 이내의 등락이 예상 향후 개월 기준 절대수익률 이상의 주가하락이 예상 향후 개월 기준 업종지수상승률이 시장수익률 수준 투자의견 비율 매수 매수 Trading Buy 매수 중립 중립 비중축소 매도 년 월 일 기준으로 최근 년간 금융투자상품에 대하여 공표한 최근일 투자등급의 비율 Compliance Notice 당사는 자료 작성일 현재 삼성전자을 를 기초자산으로 하는 주식워런트증권에 대해 유동성공급자 LP 업무를 수행하고 있습니다. 당사는 본 자료를 제 자에게 사전 제공한 사실이 없습니다. 본 자료를 작성한 애널리스트는 자료작성일 현재 조사분석 대상법인의 금융투자상품 및 권리를 보유하고 있지 않습니다. 본 자료는 외부의 부당한 압력이나 간섭없이 애널리스트의 의견이 정확하게 반영되었음을 확인합니다. 본 조사분석자료는 당사의 리서치센터가 신뢰할 수 있는 자료 및 정보로부터 얻은 것이나 당사가 그 정확성이나 완전성을 보장할 수 없으므로 투자자 자신의 판단과 책임하에 종목 선택이나 투자시기에 대한 최종 결정을 하시기 바랍니다. 따라서 본 조사분석자료는 어떠한 경우에도 고객의 증권투자 결과에 대한 법적 책임소재의 증빙자료로 사용될 수 없습니다. 본 조사분석자료의 지적재산권은 당사에 있으므로 당사의 허락 없이 무단 복제 및 배포할 수 없습니다. Mirae Asset Daewoo Research '"
      ]
     },
     "execution_count": 87,
     "metadata": {},
     "output_type": "execute_result"
    }
   ],
   "source": [
    "with open('data3/삼성전자/1554692918116.txt','r', encoding='utf-8') as f:\n",
    "    txt = f.read()\n",
    "txt = re.sub('\\n',' ',txt)\n",
    "txt = re.sub('\\d+\\.\\d+',' ',txt)\n",
    "txt = re.sub(',','',txt)\n",
    "txt = re.sub('[^a-zA-Z가-힣\\.]',' ',txt)\n",
    "txt = re.sub(' Q|E|F|x ',' ',txt)\n",
    "txt = re.sub('  +', ' ',txt)\n",
    "#txt = re.sub('\\.{3,}','.', txt)\n",
    "#txt = re.sub('(\\. ){2,}','.',txt)\n",
    "txt"
   ]
  },
  {
   "cell_type": "code",
   "execution_count": 88,
   "metadata": {
    "collapsed": true,
    "jupyter": {
     "outputs_hidden": true
    }
   },
   "outputs": [
    {
     "data": {
      "text/plain": [
       "[' 삼성전자 높아지는 주주 환원 기대감 Vs',\n",
       " ' H 부진 영업 잠정 실적 발표 영업이익 조원 YoY oQ 삼성전자의 영업 잠정 실적이 공시되었다',\n",
       " ' 매출액 조원 YoY oQ 영업이익 조원 YoY oQ 이다',\n",
       " ' 당사 추정 매출액 조원과 추 정 영업이익 조원 시장 기대 매출액 조원과 시장 기대 영업이익 조원에 미달했다',\n",
       " ' 사업별 추정 영업이익은 C 부문 TV 가전 조원 기존 추정치 조원 IM 부문 스마트 폰 조원 기존 추정치 조원 반도체 조원 기존 추정치 조원 디스플레이 패널 조원 기존 추정치 조원 이다',\n",
       " ' 반도체 디스플레이 부진 스마트폰 가전 견조 반도체 부분의 경우 전반적인 가격 하락에도 불구하고 수요의 회복은 크지 않았던 것으로 판 단된다',\n",
       " ' 주목해야 할 부분은 DRAM재고다',\n",
       " ' 일부 Mobile DRAM 출하 증가에도 불구하고 PC Server DRAM의 수요 부진으로 Bit Growth는 를 기록했을 것으로 추정한다',\n",
       " ' 경쟁 사에 비해 판매수량 감소 폭이 컸기 때문에 oQ 수량 감소는 곧 재고 증가를 의미한다',\n",
       " ' NAND의 ASP 하락폭도 예상보다 컸을 것으로 추정한다',\n",
       " ' TB LC SSD기준 제품 소매가격 은 월부터 하락하기 시작해 하락했다',\n",
       " ' 동사의 주도로 Client SSD에서의 가격 경쟁이 진행 중인 것으로 판단된다',\n",
       " ' 그럼에도 불구하고 HDD의 단위 용량당 가격차이는 배 이상으 로 대체 수요를 촉진 시키기에는 추가적인 가격 하락이 불가피 하다',\n",
       " ' IM 부문은 무난했다고 판단된다',\n",
       " ' 갤럭시 S 시리즈가 출시되었고 A 시리즈 판매가 호조를 보이고 있다',\n",
       " ' 다만 판매 수량 증가에도 대폭적인 수익성 개선을 기대하긴 어렵다고 판단된 다',\n",
       " ' 지금은 시장점유율 확대가 우선이기 때문이다',\n",
       " ' 수익성 개선 효과는 년부터 나타날 것으로 예상한다',\n",
       " ' C 부분은 견조한 실적을 기록한 것으로 추정된다',\n",
       " ' 공기청정기 등 판매가 호조를 보이고 L D TV 판매도 양호한 상태이기 때문이다',\n",
       " ' 디스플레이는 적자 전환한 것으로 추정된다 조원 ',\n",
       " ' LCD 패널가격 하락과 애플향 OL D 물량 감소 때문이다',\n",
       " ' A 라인 가동 시작으로 감가상각비 반영도 시작된 것으로 판단된다',\n",
       " ' 투자의견 매수 및 개월 목표주가 원 유지 자세한 실적 분석 및 추정 변경은 월 일 예정 실적 발표 이후 반영할 계획이다',\n",
       " ' 반도체 부 진이 지속될 가능성이 존재하나 주주 환원에 대한 기대가 주가의 하방 경직성을 만들어 줄 것이란 점을 고려하여 투자의견 매수 및 목표주가 원을 유지한다',\n",
       " ' 중장기 관점에서 분할 매수 전략이 유효하다',\n",
       " ' 결산기 월 매출액 십억원 영업이익 십억원 영업이익률 순이익 십억원 PS 원 RO P 배 P B 배 배당수익률 주 K I RS 연결 기준 순이익은 지배주주 귀속 순이익 자료 삼성전자 미래에셋대우 리서치센터 반도체 단말기 Company Report ',\n",
       " ' 투자의견 유지 목표주가 M유지 현재주가 상승여력 매수 원 원 영업이익 십억원 Consensus 영업이익 십억원 PS 성장률 MKT PS 성장률 P MKT P KOSPI 시가총액 십억원 발행주식수 백만주 유동주식비율 외국인 보유비중 베타 M 일간수익률 주 최저가 원 주 최고가 원 주가상승률 절대주가 상대주가 개월 개월 개월 삼성전자 KOSPI 모바일 부품 박원재 william',\n",
       " 'park miraeasset',\n",
       " 'com 김철중 chuljoong',\n",
       " 'kim miraeasset',\n",
       " 'com 김영건 younggun',\n",
       " 'kim',\n",
       " 'a miraeasset',\n",
       " 'com 삼성전자 높아지는 주주 환원 기대감 Vs',\n",
       " ' H 부진 삼성전자 주요 실적 테이블 및 주요 차트 표 ',\n",
       " ' 삼성전자 잠정실적 조원 구분 매출액 영업이익 C IM Semiconductor Display P 잠정실적 기존추정 차이 시장추정 차이 oQ YoY 주 부분별 잠정 영업이익은 추정치',\n",
       " ' 시장추정은 nGuide 자료 삼성전자 미래에셋대우 리서치센터 그림 ',\n",
       " ' 삼성전자 주가 일봉 그림 ',\n",
       " ' 삼성전자 주가 주봉 자료 미래에셋대우 리서치센터 그림 ',\n",
       " ' PBR Band 그림 ',\n",
       " ' V BITDA Band 자료 미래에셋대우 리서치센터 그림 ',\n",
       " ' P R Band 원 원 원 자료 미래에셋대우 리서치센터 자료 미래에셋대우 리서치센터 자료 미래에셋대우 리서치센터 Mirae Asset Daewoo Research 삼성전자 높아지는 주주 환원 기대감 Vs',\n",
       " ' H 부진 국내 IT 대형주 표 ',\n",
       " ' 국내 IT 대형주 실적 관련 지표 Global peer group 십억원 주가상승률 M M 시가총액 매출액 영업이익 영업이익률 순이익 한화에어로스페이스 IT대형주 평균 자료 Bloomberg 미래에셋대우 리서치센터 표 ',\n",
       " ' 국내 IT 대형주 주가 관련 지표 RO P R PBR V BITDA 배 회사명 삼성전자 LG전자 LG디스플레이 삼성SDI SK하이닉스 삼성전기 LG이노텍 회사명 삼성전자 LG전자 LG디스플레이 삼성SDI SK하이닉스 삼성전기 LG이노텍 한화에어로스페이스 IT대형주 평균 자료 Bloomberg 미래에셋대우 리서치센터 그림 ',\n",
       " ' 국내 IT 대형주 PBR RO 비교 그림 ',\n",
       " ' 국내 IT 대형주 V BITDA BITDA Growth 비교 PBR 배 V BITDA 삼성전기 삼성SDI 삼성전자 LG이노텍 한화에어로 스페이스 SK하이닉스 LG전자 LG디스플레이 RO 한화에어로 스페이스 삼성SDI 삼성전자 LG이노텍 삼성전기 LG디스플레이 LG전자 SK하이닉스 BITDA growth 자료 Bloomberg 미래에셋대우 리서치센터 자료 Bloomberg 미래에셋대우 리서치센터 Mirae Asset Daewoo Research 삼성전자 높아지는 주주 환원 기대감 Vs',\n",
       " ' H 부진 글로벌 가전 업체 표 ',\n",
       " ' 글로벌 가전 업체 실적 관련 지표 십억원 회사명 삼성전자 LG전자 PHILIPS 주가상승률 M M 시가총액 매출액 영업이익 영업이익률 순이익 L CTROLUX WHIRLPOOL PANASONIC SONY HITACHI 가전 평균 주 PANNASONIC SONY HITACHI는 월 일 결산 자료 Bloomberg 미래에셋대우 리서치센터 표 ',\n",
       " ' 글로벌 가전 업체 주가 관련 지표 배 회사명 삼성전자 LG전자 PHILIPS L CTROLUX WHIRLPOOL PANASONIC SONY HITACHI 가전 평균 RO P R PBR V BITDA 주 PANNASONIC SONY HITACHI는 월 일 결산 자료 Bloomberg 미래에셋대우 리서치센터 그림 ',\n",
       " ' 글로벌 가전 업체 PBR RO 비교 그림 ',\n",
       " ' 글로벌 가전 업체 V BITDA BITDA Growth 비교 PBR 배 V BITDA PHILIPS L CTROLUX 삼성전자 PANASONIC SONY HITACHI LG전자 RO 삼성전자 PHILIPS WHIRLPOOL L CTROLUX PANASONIC HITACHI SONY LG전자 BITDA growth 자료 Bloomberg 미래에셋대우 리서치센터 자료 Bloomberg 미래에셋대우 리서치센터 Mirae Asset Daewoo Research 삼성전자 LG전자 APPL Lenovo ZT HTC 회사명 삼성전자 LG전자 APPL Lenovo ZT HTC 삼성전자 높아지는 주주 환원 기대감 Vs',\n",
       " ' H 부진 글로벌 핸드셋 업체 표 ',\n",
       " ' 글로벌 핸드셋 업체 실적 관련 지표 회사명 주가상승률 M M 시가총액 매출액 영업이익 영업이익률 순이익 십억원 핸드셋 평균 주 APPL 은 월말 결산 Lenovo는 월말 결산 자료 Bloomberg 미래에셋대우 리서치센터 표 ',\n",
       " ' 글로벌 핸드셋 업체 주가 관련 지표 배 RO P R PBR V BITDA 핸드셋 평균 주 APPL 은 월말 결산 BlackBerry는 월말 결산 Lenovo는 월말 결산 자료 Bloomberg 미래에셋대우 리서치센터 그림 ',\n",
       " ' 글로벌 핸드셋 업체 PBR RO 비교 그림 ',\n",
       " ' 글로벌 핸드셋 업체 V BITDA BITDA Growth 비교 PBR 배 V BITDA HTC ZT Lenovo 삼성전자 LG전자 RO 삼성전자 ZT APPL Lenovo LG전자 BITDA growth 자료 Bloomberg 미래에셋대우 리서치센터 자료 Bloomberg 미래에셋대우 리서치센터 Mirae Asset Daewoo Research 삼성전자 높아지는 주주 환원 기대감 Vs',\n",
       " ' H 부진 글로벌 디스플레이 업체 표 ',\n",
       " ' 글로벌 디스플레이 업체 실적 관련 지표 십억원 회사명 주가상승률 M M 시가총액 매출액 영업이익 영업이익률 순이익 삼성전자 LG디스플레이 PANASONIC TOSHIBA SHARP Japan Display AU OPTRONICS INNOLUX 디스플레이 평균 주 PANASONIC TOSHIBA SHARP Japan Display는 월 일 결산 자료 Bloomberg 미래에셋대우 리서치센터 표 ',\n",
       " ' 글로벌 디스플레이 업체 주가 관련 지표 배 회사명 삼성전자 LG디스플레이 PANASONIC TOSHIBA SHARP Japan Display AU OPTRONICS INNOLUX 디스플레이 평균 RO P R PBR V BITDA 주 PANASONIC TOSHIBA SHARP Japan Display는 월 일 결산 자료 Bloomberg 미래에셋대우 리서치센터 그림 ',\n",
       " ' 글로벌 디스플레이 업체 PBR RO 비교 그림 ',\n",
       " ' 글로벌 디스플레이 업체 V BITDA BITDA Growth 비교 PBR 배 V BITDA TOSHIBA SHARP INNOLUX JDI AUO LG디스플레이 삼성전자 PANASONIC LG전자 RO 삼성전자 PHILIPS WHIRLPOOL L CTROLUX PANASONIC HITACHI SONY LG전자 BITDA growth 자료 Bloomberg 미래에셋대우 리서치센터 자료 Bloomberg 미래에셋대우 리서치센터 Mirae Asset Daewoo Research 삼성전자 높아지는 주주 환원 기대감 Vs',\n",
       " ' H 부진 글로벌 메모리 반도체 업체 표 ',\n",
       " ' 글로벌 메모리 반도체 업체 실적 관련 지표 매출액 영업이익 영업이익률 순이익 십억원 회사명 삼성전자 SK하이닉스 Micron Intel WDC Nanya 주가상승률 M M 시가총액 메모리 평균 자료 Bloomberg 미래에셋대우 리서치센터 표 ',\n",
       " ' 글로벌 메모리 반도체 업체 주가 관련 지표 배 회사명 삼성전자 SK하이닉스 Micron Intel WDC Nanya 메모리 평균 RO P R PBR V BITDA 자료 Bloomberg 미래에셋대우 리서치센터 그림 ',\n",
       " ' 글로벌 메모리 반도체 업체 PBR RO 비교 그림 ',\n",
       " ' 글로벌 메모리 반도체 업체 V BITDA BITDA Growth 비교 PBR 배 V BITDA Intel 삼성전자 WDC Nanya Micron SK하이닉스 RO 삼성전자 Micron SK하이닉스 WDC Intel Nanya BITDA growth 자료 Bloomberg 미래에셋대우 리서치센터 자료 Bloomberg 미래에셋대우 리서치센터 Mirae Asset Daewoo Research 삼성전자 높아지는 주주 환원 기대감 Vs',\n",
       " ' H 부진 글로벌 비메모리 반도체 업체 표 ',\n",
       " ' 글로벌 비메모리 반도체 업체 실적 관련 지표 십억원 회사명 주가상승률 M M 시가총액 매출액 영업이익 영업이익률 순이익 삼성전자 Intel ualcomm Texas Instrument Broadcom Mediatek NVIDIA AMD 비메모리 평균 자료 Bloomberg 미래에셋대우 리서치센터 표 ',\n",
       " ' 글로벌 비메모리 반도체 업체 주가 관련 지표 회사명 삼성전자 Intel RO ualcomm Texas Instrument Broadcom Mediatek NVIDIA AMD 비메모리 평균 자료 Bloomberg 미래에셋대우 리서치센터 P R PBR V BITDA 배 그림 ',\n",
       " ' 글로벌 비메모리 업체 PBR RO 비교 그림 ',\n",
       " ' 글로벌 비메모리 업체 V BITDA BITDA Growth 비교 PBR 배 V BITDA Texas Instrument AMD NVIDIA Broadcom Intel Mediatek ualcomm 삼성전자 RO NVIDIA AMD Texas Instrument ualcomm Mediatek 삼성전자 Intel Broadcom BITDA growth 자료 Bloomberg 미래에셋대우 리서치센터 자료 Bloomberg 미래에셋대우 리서치센터 Mirae Asset Daewoo Research 삼성전자 높아지는 주주 환원 기대감 Vs',\n",
       " ' H 부진 그림 ',\n",
       " ' 글로벌 핸드셋 업체 상대주가 추이 I 그림 ',\n",
       " ' 글로벌 핸드셋 업체 상대주가 추이 II 삼성전자 Lenovo LG전자 Apple M ',\n",
       " ' Lenovo HTC ZT M ',\n",
       " ' 자료 Datastream 미래에셋대우 리서치센터 자료 Datastream 미래에셋대우 리서치센터 그림 ',\n",
       " ' 글로벌 가전 업체 상대주가 추이 I 그림 ',\n",
       " ' 글로벌 가전 업체 상대주가 추이 II 삼성전자 PHILIPS LG전자 L CTROLUX M WHIRLPOOL PANASONIC SONY HITACHI Haier M ',\n",
       " ' ',\n",
       " ' 자료 Datastream 미래에셋대우 리서치센터 자료 Datastream 미래에셋대우 리서치센터 그림 ',\n",
       " ' 글로벌 디스플레이 업체 상대주가 추이 I 그림 ',\n",
       " ' 글로벌 디스플레이 업체 상대주가 추이 II 삼성전자 LG디스플레이 SHARP Panasonic M SHARP HANNSTAR AUO BO M Innolu ',\n",
       " ' ',\n",
       " ' 자료 Datastream 미래에셋대우 리서치센터 자료 Datastream 미래에셋대우 리서치센터 Mirae Asset Daewoo Research 삼성전자 높아지는 주주 환원 기대감 Vs',\n",
       " ' H 부진 그림 ',\n",
       " ' 글로벌 메모리 반도체 업체 상대주가 추이 I 그림 ',\n",
       " ' 글로벌 메모리 반도체 업체 상대주가 추이 II 삼성전자 Intel ualcomm Broadcom M 삼성전자 Mediatek NVIDIA AMD M ',\n",
       " ' ',\n",
       " ' 자료 Datastream 미래에셋대우 리서치센터 자료 Datastream 미래에셋대우 리서치센터 그림 ',\n",
       " ' 글로벌 비메모리 반도체 업체 상대주가 추이 I 그림 ',\n",
       " ' 글로벌 비메모리 반도체 업체 상대주가 추이 II 삼성전자 SK하이닉스 Micron M Intel WDC Nanya M ',\n",
       " ' ',\n",
       " ' 자료 Datastream 미래에셋대우 리서치센터 자료 Datastream 미래에셋대우 리서치센터 Mirae Asset Daewoo Research 삼성전자 높아지는 주주 환원 기대감 Vs',\n",
       " ' H 부진 삼성전자 예상 포괄손익계산서 요약 십억원 매출액 매출원가 매출총이익 판매비와관리비 조정영업이익 영업이익 비영업손익 금융손익 관계기업등 투자손익 세전계속사업손익 계속사업법인세비용 계속사업이익 중단사업이익 당기순이익 지배주주 비지배주주 총포괄이익 지배주주 비지배주주 BITDA C BITDA 마진율 영업이익률 지배주주귀속 순이익률 예상 현금흐름표 요약 십억원 영업활동으로 인한 현금흐름 당기순이익 비현금수익비용가감 유형자산감가상각비 무형자산상각비 기타 영업활동으로인한자산및부채의변동 매출채권 및 기타채권의 감소 증가 재고자산 감소 증가 매입채무 및 기타채무의 증가 감소 법인세납부 투자활동으로 인한 현금흐름 유형자산처분 취득 무형자산감소 증가 장단기금융자산의 감소 증가 기타투자활동 재무활동으로 인한 현금흐름 장단기금융부채의 증가 감소 자본의 증가 감소 배당금의 지급 기타재무활동 현금의 증가 기초현금 기말현금 자료 삼성전자 미래에셋대우 리서치센터 예상 재무상태표 요약 십억원 유동자산 현금 및 현금성자산 매출채권 및 기타채권 재고자산 기타유동자산 비유동자산 관계기업투자등 유형자산 무형자산 자산총계 유동부채 매입채무 및 기타채무 단기금융부채 기타유동부채 비유동부채 장기금융부채 기타비유동부채 부채총계 지배주주지분 자본금 자본잉여금 이익잉여금 비지배주주지분 자본총계 예상 주당가치 및 valuation 요약 P P C P B V BITDA PS 원 C PS 원 BPS 원 DPS 원 배당성향 배당수익률 매출액증가율 BITDA증가율 조정영업이익증가율 PS증가율 매출채권 회전율 회 재고자산 회전율 회 매입채무 회전율 회 ROA RO ROIC 부채비율 유동비율 순차입금 자기자본 조정영업이익 금융비용 Mirae Asset Daewoo Research 삼성전자 높아지는 주주 환원 기대감 Vs',\n",
       " ' H 부진 투자의견 및 목표주가 변동추이 제시일자 투자의견 목표주가 원 괴리율 평균주가대비 최고 최저 주가대비 원 삼성전자 매수 매수 매수 매수 매수 매수 매수 삼성전자 ',\n",
       " ' ',\n",
       " ' ',\n",
       " ' ',\n",
       " ' ',\n",
       " ' ',\n",
       " ' ',\n",
       " ' ',\n",
       " ' ',\n",
       " ' ',\n",
       " ' ',\n",
       " ' ',\n",
       " ' ',\n",
       " ' ',\n",
       " ' 괴리율 산정 수정주가 적용 목표주가 대상시점은 년이며 목표주가를 변경하는 경우 해당 조사분석자료의 공표일 전일까지 기간을 대상으로 함 Trading Buy Trading Buy Trading Buy 매수 매수 매수 분석 대상 제외 투자의견 분류 및 적용기준 산업 기업 비중확대 향후 개월 기준 업종지수상승률이 시장수익률 대비 높거나 상승 매수 향후 개월 기준 절대수익률 이상의 초과수익 예상 중립 Trading Buy 향후 개월 기준 절대수익률 이상의 초과수익 예상 비중축소 향후 개월 기준 업종지수상승률이 시장수익률 대비 낮거나 악화 중립 비중축소 매수 Trading Buy 중립 비중축소 주가 목표주가 Not covered 향후 개월 기준 절대수익률 이내의 등락이 예상 향후 개월 기준 절대수익률 이상의 주가하락이 예상 향후 개월 기준 업종지수상승률이 시장수익률 수준 투자의견 비율 매수 매수 Trading Buy 매수 중립 중립 비중축소 매도 년 월 일 기준으로 최근 년간 금융투자상품에 대하여 공표한 최근일 투자등급의 비율 Compliance Notice 당사는 자료 작성일 현재 삼성전자을 를 기초자산으로 하는 주식워런트증권에 대해 유동성공급자 LP 업무를 수행하고 있습니다',\n",
       " ' 당사는 본 자료를 제 자에게 사전 제공한 사실이 없습니다',\n",
       " ' 본 자료를 작성한 애널리스트는 자료작성일 현재 조사분석 대상법인의 금융투자상품 및 권리를 보유하고 있지 않습니다',\n",
       " ' 본 자료는 외부의 부당한 압력이나 간섭없이 애널리스트의 의견이 정확하게 반영되었음을 확인합니다',\n",
       " ' 본 조사분석자료는 당사의 리서치센터가 신뢰할 수 있는 자료 및 정보로부터 얻은 것이나 당사가 그 정확성이나 완전성을 보장할 수 없으므로 투자자 자신의 판단과 책임하에 종목 선택이나 투자시기에 대한 최종 결정을 하시기 바랍니다',\n",
       " ' 따라서 본 조사분석자료는 어떠한 경우에도 고객의 증권투자 결과에 대한 법적 책임소재의 증빙자료로 사용될 수 없습니다',\n",
       " ' 본 조사분석자료의 지적재산권은 당사에 있으므로 당사의 허락 없이 무단 복제 및 배포할 수 없습니다',\n",
       " ' Mirae Asset Daewoo Research ']"
      ]
     },
     "execution_count": 88,
     "metadata": {},
     "output_type": "execute_result"
    }
   ],
   "source": [
    "txt.split('.')"
   ]
  },
  {
   "cell_type": "markdown",
   "metadata": {},
   "source": [
    "### KR-WordRank: key sentence"
   ]
  },
  {
   "cell_type": "markdown",
   "metadata": {},
   "source": [
    "- 긍정: 성과가 좋았던, 일회성 비용이 없어질, 소폭 증가하나, 적자가 소폭 줄어들, 기대감을 꺾을 필요는 없지만\n",
    "- 부정: 실적 부진, 부진한 잠정 실적, 하회, 큰 하락률, 불량, 모두 부진, 더 안 좋은, 더 나빠질, 영업이익은 영업적인 상황만 놓고 볼 때 감액, 시황 회복에 대한 구체적인 시그널도 없는 상황이다, 실적 하향 추세"
   ]
  },
  {
   "cell_type": "code",
   "execution_count": 13,
   "metadata": {},
   "outputs": [],
   "source": [
    "#texts = df['text'][0].split('.')"
   ]
  },
  {
   "cell_type": "code",
   "execution_count": 84,
   "metadata": {
    "collapsed": true,
    "jupyter": {
     "outputs_hidden": true
    }
   },
   "outputs": [
    {
     "data": {
      "text/plain": [
       "['삼성전자 높아지는 주주 환원 기대감 Vs',\n",
       " 'H 부진 영업 잠정 실적 발표 영업이익 조원 YoY oQ 삼성전자의 영업 잠정 실적이 공시되었다',\n",
       " '매출액 조원 YoY oQ 영업이익 조원 YoY oQ 이다',\n",
       " '당사 추정 매출액 조원과 추 정 영업이익 조원 시장 기대 매출액 조원과 시장 기대 영업이익 조원에 미달했다',\n",
       " '사업별 추정 영업이익은 C 부문 TV 가전 조원 기존 추정치 조원 IM 부문 스마트 폰 조원 기존 추정치 조원 반도체 조원 기존 추정치 조원 디스플레이 패널 조원 기존 추정치 조원 이다',\n",
       " '반도체 디스플레이 부진 스마트폰 가전 견조 반도체 부분의 경우 전반적인 가격 하락에도 불구하고 수요의 회복은 크지 않았던 것으로 판 단된다',\n",
       " '주목해야 할 부분은 DRAM재고다',\n",
       " '일부 Mobile DRAM 출하 증가에도 불구하고 PC Server DRAM의 수요 부진으로 Bit Growth는 를 기록했을 것으로 추정한다',\n",
       " '경쟁 사에 비해 판매수량 감소 폭이 컸기 때문에 oQ 수량 감소는 곧 재고 증가를 의미한다',\n",
       " 'NAND의 ASP 하락폭도 예상보다 컸을 것으로 추정한다',\n",
       " 'TB LC SSD기준 제품 소매가격 은 월부터 하락하기 시작해 하락했다',\n",
       " '동사의 주도로 Client SSD에서의 가격 경쟁이 진행 중인 것으로 판단된다',\n",
       " '그럼에도 불구하고 HDD의 단위 용량당 가격차이는 배 이상으 로 대체 수요를 촉진 시키기에는 추가적인 가격 하락이 불가피 하다',\n",
       " 'IM 부문은 무난했다고 판단된다',\n",
       " '갤럭시 S 시리즈가 출시되었고 A 시리즈 판매가 호조를 보이고 있다',\n",
       " '다만 판매 수량 증가에도 대폭적인 수익성 개선을 기대하긴 어렵다고 판단된 다',\n",
       " '지금은 시장점유율 확대가 우선이기 때문이다',\n",
       " '수익성 개선 효과는 년부터 나타날 것으로 예상한다',\n",
       " 'C 부분은 견조한 실적을 기록한 것으로 추정된다',\n",
       " '공기청정기 등 판매가 호조를 보이고 LED TV 판매도 양호한 상태이기 때문이다',\n",
       " '디스플레이는 적자 전환한 것으로 추정된다 조원',\n",
       " 'LCD 패널가격 하락과 애플향 OLED 물량 감소 때문이다',\n",
       " 'A 라인 가동 시작으로 감가상각비 반영도 시작된 것으로 판단된다',\n",
       " '투자의견 매수 및 개월 목표주가 원 유지 자세한 실적 분석 및 추정 변경은 월 일 예정 실적 발표 이후 반영할 계획이다',\n",
       " '반도체 부 진이 지속될 가능성이 존재하나 주주 환원에 대한 기대가 주가의 하방 경직성을 만들어 줄 것이란 점을 고려하여 투자의견 매수 및 목표주가 원을 유지한다',\n",
       " '중장기 관점에서 분할 매수 전략이 유효하다',\n",
       " '결산기 월 매출액 십억원 영업이익 십억원 영업이익률 순이익 십억원 EPS 원 RO P 배 P B 배 배당수익률 주 K IFRS 연결 기준 순이익은 지배주주 귀속 순이익 자료 삼성전자 미래에셋대우 리서치센터 F F F 반도체 단말기 Company Report',\n",
       " 'park miraeasset',\n",
       " 'com 김철중 chuljoong',\n",
       " 'kim miraeasset',\n",
       " 'com 김영건 younggun',\n",
       " 'a miraeasset',\n",
       " 'com 삼성전자 높아지는 주주 환원 기대감 Vs',\n",
       " 'H 부진 삼성전자 주요 실적 테이블 및 주요 차트 표',\n",
       " '삼성전자 잠정실적 조원 구분 매출액 영업이익 C IM Semiconductor Display P 잠정실적 기존추정 차이 시장추정 차이 oQ YoY 주 부분별 잠정 영업이익은 추정치',\n",
       " '시장추정은 FnGuide 자료 삼성전자 미래에셋대우 리서치센터 그림',\n",
       " '삼성전자 주가 일봉 그림',\n",
       " '삼성전자 주가 주봉 자료 미래에셋대우 리서치센터 그림',\n",
       " 'PBR Band x 그림',\n",
       " 'EV EBITDA Band x 자료 미래에셋대우 리서치센터 그림',\n",
       " 'PER Band x 원 x x x x x 원 x x x x x 원 x x x x x 자료 미래에셋대우 리서치센터 자료 미래에셋대우 리서치센터 자료 미래에셋대우 리서치센터 Mirae Asset Daewoo Research 삼성전자 높아지는 주주 환원 기대감 Vs',\n",
       " 'H 부진 국내 IT 대형주 표',\n",
       " '국내 IT 대형주 실적 관련 지표 Global peer group 십억원 주가상승률 M M 시가총액 매출액 영업이익 영업이익률 순이익 F F F F F F F F F F F F 한화에어로스페이스 IT대형주 평균 자료 Bloomberg 미래에셋대우 리서치센터 표',\n",
       " '국내 IT 대형주 PBR RO 비교 그림',\n",
       " 'H 부진 글로벌 가전 업체 표',\n",
       " '글로벌 가전 업체 PBR RO 비교 그림',\n",
       " 'H 부진 글로벌 핸드셋 업체 표',\n",
       " '글로벌 핸드셋 업체 실적 관련 지표 회사명 주가상승률 M M 시가총액 매출액 영업이익 영업이익률 순이익 F F F F F F F F F F F F 십억원 핸드셋 평균 주 APPLE은 월말 결산 Lenovo는 월말 결산 자료 Bloomberg 미래에셋대우 리서치센터 표',\n",
       " '글로벌 핸드셋 업체 주가 관련 지표 배 F RO PER PBR EV EBITDA F F F F F F F F F F F 핸드셋 평균 주 APPLE은 월말 결산 BlackBerry는 월말 결산 Lenovo는 월말 결산 자료 Bloomberg 미래에셋대우 리서치센터 그림',\n",
       " '글로벌 핸드셋 업체 PBR RO 비교 그림',\n",
       " 'H 부진 글로벌 디스플레이 업체 표',\n",
       " '글로벌 디스플레이 업체 PBR RO 비교 그림',\n",
       " 'H 부진 글로벌 메모리 반도체 업체 표',\n",
       " '글로벌 메모리 반도체 업체 실적 관련 지표 매출액 영업이익 영업이익률 순이익 십억원 회사명 삼성전자 SK하이닉스 Micron Intel WDC Nanya 주가상승률 M M 시가총액 F F F F F F 메모리 평균 자료 Bloomberg 미래에셋대우 리서치센터 표',\n",
       " '글로벌 메모리 반도체 업체 주가 관련 지표 F F F F F F 배 회사명 삼성전자 SK하이닉스 Micron Intel WDC Nanya 메모리 평균 RO PER PBR EV EBITDA F F F F F F F F F F F F 자료 Bloomberg 미래에셋대우 리서치센터 그림',\n",
       " '글로벌 메모리 반도체 업체 PBR RO 비교 그림',\n",
       " 'H 부진 글로벌 비메모리 반도체 업체 표',\n",
       " '글로벌 비메모리 반도체 업체 실적 관련 지표 십억원 회사명 주가상승률 M M 시가총액 F F F F F F 매출액 영업이익 영업이익률 순이익 삼성전자 Intel ualcomm Texas Instrument Broadcom Mediatek NVIDIA AMD 비메모리 평균 F F F F F F 자료 Bloomberg 미래에셋대우 리서치센터 표',\n",
       " '글로벌 비메모리 반도체 업체 주가 관련 지표 회사명 삼성전자 Intel RO F F F ualcomm Texas Instrument Broadcom Mediatek NVIDIA AMD 비메모리 평균 자료 Bloomberg 미래에셋대우 리서치센터 PER PBR EV EBITDA F F F F F F F F 배 F 그림',\n",
       " '글로벌 비메모리 업체 PBR RO 비교 그림',\n",
       " 'H 부진 그림',\n",
       " '글로벌 핸드셋 업체 상대주가 추이 I 그림',\n",
       " '글로벌 핸드셋 업체 상대주가 추이 II 삼성전자 Lenovo LG전자 Apple M',\n",
       " 'Lenovo HTC ZT M',\n",
       " '자료 Datastream 미래에셋대우 리서치센터 자료 Datastream 미래에셋대우 리서치센터 그림',\n",
       " '글로벌 가전 업체 상대주가 추이 I 그림',\n",
       " '글로벌 가전 업체 상대주가 추이 II 삼성전자 PHILIPS LG전자 ELECTROLUX M WHIRLPOOL PANASONIC SONY HITACHI Haier M',\n",
       " '자료 Datastream 미래에셋대우 리서치센터 자료 Datastream 미래에셋대우 리서치센터 그림',\n",
       " '글로벌 디스플레이 업체 상대주가 추이 I 그림',\n",
       " '글로벌 디스플레이 업체 상대주가 추이 II 삼성전자 LG디스플레이 SHARP Panasonic M SHARP HANNSTAR AUO BO M Innolux',\n",
       " '자료 Datastream 미래에셋대우 리서치센터 자료 Datastream 미래에셋대우 리서치센터 Mirae Asset Daewoo Research 삼성전자 높아지는 주주 환원 기대감 Vs',\n",
       " 'H 부진 그림',\n",
       " '글로벌 메모리 반도체 업체 상대주가 추이 I 그림',\n",
       " '글로벌 메모리 반도체 업체 상대주가 추이 II 삼성전자 Intel ualcomm Broadcom M 삼성전자 Mediatek NVIDIA AMD M',\n",
       " '자료 Datastream 미래에셋대우 리서치센터 자료 Datastream 미래에셋대우 리서치센터 그림',\n",
       " '글로벌 비메모리 반도체 업체 상대주가 추이 I 그림',\n",
       " '글로벌 비메모리 반도체 업체 상대주가 추이 II 삼성전자 SK하이닉스 Micron M Intel WDC Nanya M',\n",
       " '자료 Datastream 미래에셋대우 리서치센터 자료 Datastream 미래에셋대우 리서치센터 Mirae Asset Daewoo Research 삼성전자 높아지는 주주 환원 기대감 Vs',\n",
       " 'H 부진 투자의견 및 목표주가 변동추이 제시일자 투자의견 목표주가 원 괴리율 평균주가대비 최고 최저 주가대비 원 삼성전자 매수 매수 매수 매수 매수 매수 매수 삼성전자',\n",
       " '당사는 본 자료를 제 자에게 사전 제공한 사실이 없습니다',\n",
       " '본 자료를 작성한 애널리스트는 자료작성일 현재 조사분석 대상법인의 금융투자상품 및 권리를 보유하고 있지 않습니다',\n",
       " '본 자료는 외부의 부당한 압력이나 간섭없이 애널리스트의 의견이 정확하게 반영되었음을 확인합니다',\n",
       " '본 조사분석자료는 당사의 리서치센터가 신뢰할 수 있는 자료 및 정보로부터 얻은 것이나 당사가 그 정확성이나 완전성을 보장할 수 없으므로 투자자 자신의 판단과 책임하에 종목 선택이나 투자시기에 대한 최종 결정을 하시기 바랍니다',\n",
       " '따라서 본 조사분석자료는 어떠한 경우에도 고객의 증권투자 결과에 대한 법적 책임소재의 증빙자료로 사용될 수 없습니다',\n",
       " '본 조사분석자료의 지적재산권은 당사에 있으므로 당사의 허락 없이 무단 복제 및 배포할 수 없습니다',\n",
       " 'Mirae Asset Daewoo Research']"
      ]
     },
     "execution_count": 84,
     "metadata": {},
     "output_type": "execute_result"
    }
   ],
   "source": [
    "texts = [x.strip() for x in txt.split('.') if len(x)>=5 and len(x)<=200]\n",
    "texts"
   ]
  },
  {
   "cell_type": "markdown",
   "metadata": {},
   "source": [
    "KR-WordRank 를 이용하여 키워드를 학습합니다."
   ]
  },
  {
   "cell_type": "code",
   "execution_count": 89,
   "metadata": {},
   "outputs": [
    {
     "name": "stdout",
     "output_type": "stream",
     "text": [
      "scan vocabs ... \n",
      "num vocabs = 295\n",
      "done = 10\n"
     ]
    }
   ],
   "source": [
    "from krwordrank.word import KRWordRank\n",
    "\n",
    "wordrank_extractor = KRWordRank(\n",
    "    min_count = 5, # 단어의 최소 출현 빈도수 (그래프 생성 시)\n",
    "    max_length = 10, # 단어의 최대 길이\n",
    "    verbose = True\n",
    "    )\n",
    "\n",
    "beta = 0.85    # PageRank의 decaying factor beta\n",
    "max_iter = 10\n",
    "\n",
    "keywords, rank, graph = wordrank_extractor.extract(texts, beta, max_iter, num_keywords=100)"
   ]
  },
  {
   "cell_type": "markdown",
   "metadata": {},
   "source": [
    "- make_vocab_score 함수는 keywords 와 stopwords 를 이용하여 MaxScoreTokenizer 가 이용하는 단어 점수를 만드는 과정입니다.\n",
    "- MaxScoreTokenizer 는 soynlp 의 토크나이저 입니다."
   ]
  },
  {
   "cell_type": "code",
   "execution_count": 90,
   "metadata": {},
   "outputs": [],
   "source": [
    "from krwordrank.sentence import make_vocab_score\n",
    "from krwordrank.sentence import MaxScoreTokenizer\n",
    "\n",
    "stopwords = {'자료','것으로','기타','대한','있다.','으로','있으며','따라'}\n",
    "vocab_score = make_vocab_score(keywords, stopwords, scaling=lambda x:1)\n",
    "tokenizer = MaxScoreTokenizer(vocab_score)"
   ]
  },
  {
   "cell_type": "markdown",
   "metadata": {},
   "source": [
    "Key sentence 를 추출하는데 필요한 정보는 keyword 뿐이기 때문에 토크나이징이 아주 정교하게 작동하지는 않습니다. 문장에서 키워드를 단어로 추출하는 역할만 합니다."
   ]
  },
  {
   "cell_type": "markdown",
   "metadata": {},
   "source": [
    "penalty 함수를 설정하고, 이들을 keysentence 함수에 입력합니다. 여기에서의 topk 는 핵심 문장의 개수입니다."
   ]
  },
  {
   "cell_type": "code",
   "execution_count": 91,
   "metadata": {},
   "outputs": [],
   "source": [
    "from krwordrank.sentence import keysentence\n",
    "\n",
    "penalty = lambda x: 0 if 25 <= len(x) <= 80 else 1\n",
    "\n",
    "sents = keysentence(\n",
    "    vocab_score, texts, tokenizer.tokenize,\n",
    "    penalty=penalty,\n",
    "    diversity=0.3, #  diversity를 키우면 (핵심 문장 점수가 높은 문장)과 (코사인 유사도가 diversity보다 작고 점수가 낮은 문장)은 선택되지 않음\n",
    "    topk=1\n",
    ")"
   ]
  },
  {
   "cell_type": "code",
   "execution_count": 92,
   "metadata": {},
   "outputs": [
    {
     "data": {
      "text/plain": [
       "['글로벌 비메모리 반도체 업체 상대주가 추이 II 삼성전자 SK하이닉스 Micron M Intel WDC Nanya M']"
      ]
     },
     "execution_count": 92,
     "metadata": {},
     "output_type": "execute_result"
    }
   ],
   "source": [
    "sents"
   ]
  },
  {
   "cell_type": "code",
   "execution_count": 93,
   "metadata": {},
   "outputs": [
    {
     "name": "stdout",
     "output_type": "stream",
     "text": [
      "['글로벌 비메모리 반도체 업체 상대주가 추이 II 삼성전자 SK하이닉스 Micron M Intel WDC Nanya M']\n"
     ]
    }
   ],
   "source": [
    "sents = keysentence(\n",
    "    vocab_score, texts, tokenizer.tokenize,\n",
    "    penalty=penalty,\n",
    "    diversity=0.7, #  diversity를 키우면 (핵심 문장 점수가 높은 문장)과 (코사인 유사도가 diversity보다 작고 점수가 낮은 문장)은 선택되지 않음\n",
    "    topk=1\n",
    ")\n",
    "\n",
    "print(sents)"
   ]
  },
  {
   "cell_type": "markdown",
   "metadata": {},
   "source": [
    "### TEST"
   ]
  },
  {
   "cell_type": "code",
   "execution_count": 199,
   "metadata": {
    "collapsed": true,
    "jupyter": {
     "outputs_hidden": true
    }
   },
   "outputs": [
    {
     "data": {
      "text/plain": [
       "[' 삼성전자 BUY 유지 목표주가 유지 원 현재주가 원 Up Downside 기업분석 반도체 ',\n",
       " ' ',\n",
       " ' 예고된 실적 부진 News 부진한 잠정 실적 발표 삼성전자는 매출액 조원 oQ YoY 영업 이익 조원 oQ YoY 의 잠정실적을 발표했다',\n",
       " ' 컨센서스는 조원 우리 추정치는 조원이었다',\n",
       " ' Comment 반도체는 업황부진에 일회성 요인까지 디스플레이 하회 삼성전자가 이미 실적 부진 가능성을 이례적인 공시로 경고하면서 arnings shock에 가까운 실적은 예견되었다',\n",
       " ' 반도체는 예상보다 큰 ASP 하락률에다 불량에 대한 충당금 반영으로 조원에 못 미치는 영업이익 조원 이 추정 된다',\n",
       " ' 디스플레이는 lexible OL D Rigid OL D T T LCD 등이 모두 부진해 예상보다 더 안 좋은 조원의 영업적자가 추정된다',\n",
       " ' IM은 갤럭시S 판매량이 좋아서 조원의 영업이익이 추정되어 대 사업부 중 가장 성과가 좋았던 것으로 보인다',\n",
       " ' 는 영업적인 상황만 보면 대비 더 안 좋다 일부 일회성 비용이 없어질 수 있겠지만 반도체 가격 하락률이 이상이라면 반도체 영업상황은 더 나빠질 것이다',\n",
       " ' 갤럭시S 판매량이 에 소폭 증가하나 마케팅비용도 동반 상승해 IM 영업이익은 감액이 예상된다',\n",
       " ' 디스플레이는 Rigid OL D 일부 개선으로 적자가 소폭 줄어들 전망이다',\n",
       " ' 이에 따라 전사 영업이익은 영업적인 상황만 놓고 볼 때 감액이 예상된다',\n",
       " ' Investment undamentals I RS연결 단위 십억원 원 배 Stock Data Y Dec 매출액 증가율 영업이익 증가율 지배주주순이익 주 최저 최고 KOSDAQ KOSPI 시가총액 평균거래량 외국인지분율 외국인지분율변동추이 주요주주 원 pt 억원 p 삼성물산 외 인 PS P R H L PBR H L V BITDA H L 영업이익률 RO 주가상승률 절대기준 상대기 cid M M M Analyst 권성률 srkwon db fi',\n",
       " 'com 삼성전자 좌 KOSPI지수대비 우 천원 pt 삼성전자 Action 아직 터널은 안 끝났다 월말 삼성전자 확정 실적 발표 후 실적을 조정할 예정이다',\n",
       " ' 하반기에 대한 기대감을 꺾을 필요는 없지만 아직 반도체 시황 회복에 대한 구체적인 시그널도 없는 상황이다',\n",
       " ' 부진한 실적으로 실적 하향 추세는 한번 더 겪어야 한다',\n",
       " ' 그에 반해 주가는 조정 없이 기대감이 선반영되어 견조했는데 신중한 접근이 필요해 보인다',\n",
       " ' DB inancial Investment 예고된 실적 부진 대차대조표 월 결산 십억원 유동자산 현금및현금성자산 매출채권및기타채권 재고자산 비유동자산 유형자산 무형자산 투자자산 자산총계 유동부채 매입채무및기타채무 단기차입금및단기사채 유동성장기부채 비유동부채 사채및장기차입금 부채총계 자본금 자본잉여금 이익잉여금 비지배주주지분 자본총계 현금흐름표 월 결산 십억원 영업활동현금흐름 당기순이익 현금유출이없는비용및수익 유형및무형자산상각비 영업관련자산부채변동 매출채권및기타채권의감소 재고자산의감소 매입채무및기타채무의증가 투자활동현금흐름 CAP X 투자자산의순증 재무활동현금흐름 사채및차입금의 증가 자본금및자본잉여금의증가 배당금지급 기타현금흐름 현금의증가 기초현금 기말현금 자료 삼성전자 DB 금융투자 주 I RS 연결기준 Compliance Notice 손익계산서 월 결산 십억원 매출액 매출원가 매출총이익 판관비 영업이익 BITDA 영업외손익 금융손익 투자손익 기타영업외손익 세전이익 중단사업이익 당기순이익 지배주주지분순이익 비지배주주지분순이익 총포괄이익 증감률 YoY 매출액 영업이익 PS 주 K I RS 회계기준 개정으로 기존의 기타영업수익 비용 항목은 제외됨 주요 투자지표 월 결산 원 배 주당지표 원 PS BPS DPS Multiple 배 P P B V BITDA 순이익률 RO ROA ROIC 안정성및기타 부채비율 이자보상배율 배 배당성향 배 수익성 영업이익률 BITDA마진 자료 발간일 현재 본 자료를 작성한 조사분석담당자와 그 배우자는 해당종목과 재산적 이해관계가 없습니다',\n",
       " ' 당사는 자료 발간일 현재 지난 년간 위 조사분석자료에 언급한 종목들의 IPO 대표주관업무를 수행한 사실이 없습니다',\n",
       " ' 당사는 자료 발간일 현재 위 조사분석자료에 언급된 종목의 지분을 이상 보유하고 있지 않습니다',\n",
       " ' 당사는 자료 발간일 현재 조사분석자료에 언급된 법인과 독점규제 및 공정거래에 관한 법률 제 조 제 호에 따른 계열회사의 관계에 있지 않습니다',\n",
       " ' 동 자료내용은 기관투자가 등 제 자에게 사전 제공된 사실이 없습니다',\n",
       " ' 이 자료에 게재된 내용들은 본인의 의견을 정확하게 반영하고 있으며 외부의 부당한 압력이나 간섭없이 작성되었음을 확인합니다',\n",
       " ' 본 조사자료는 고객의 투자참고용으로 작성된 것이며 당사의 리서치센터가 신뢰할 수 있는 자료 및 정보로부터 얻어진 것이나 당사가 그 정확성이나 완전성을 보장할 수 없으므로 어떠한 경우에도 고객의 증권투자결과에 대한 법적 책임소재의 증빙자료로 사용될 수 없습니다',\n",
       " ' 본 조사자료는 당사의 허락없이 무단 복제 및 배포할 수 없습니다',\n",
       " ' 발행주식수 변동 시 목표주가와 괴리율은 수정주가를 기준으로 산출하였습니다',\n",
       " ' 년간 투자의견 비율 기준 매수 중립 매도 기업 투자의견은 향후 개월간 당사 KOSPI 목표 대비 초과 상승률 기준임 업종 투자의견은 향후 개월간 당사 KOSPI 목표 대비 초과 상승률 기준임 Buy 초과 상승률 p 이상 Hold 초과 상승률 p Underperform 초과 상승률 p 미만 삼성전자 현주가 및 목표주가 차트 Overweight 초과 상승률 p 이상 Neutral 초과 상승률 p Underweight 초과 상승률 p 미만 최근 년간 투자의견 및 목표주가 변경 일자 투자의견 목표주가 괴리율 평균 최고 최저 일자 투자의견 목표주가 Buy Buy Buy Buy Buy Buy Buy 주 표는 담당자 변경 Buy Buy 괴리율 평균 최고 최저 DB inancial Investment 천원 ']"
      ]
     },
     "execution_count": 199,
     "metadata": {},
     "output_type": "execute_result"
    }
   ],
   "source": [
    "with open('data3/삼성전자/1554776511972.txt','r', encoding='utf-8') as f:\n",
    "    txt = f.read()\n",
    "txt = re.sub('\\n',' ',txt)\n",
    "txt = re.sub('\\d+\\.\\d+',' ',txt)\n",
    "txt = re.sub(',','',txt)\n",
    "txt = re.sub('[^a-zA-Z가-힣\\.]',' ',txt)\n",
    "txt = re.sub(' Q|E|F|x ',' ',txt)\n",
    "txt = re.sub('  +', ' ',txt)\n",
    "#txt = re.sub('\\.{3,}','.', txt)\n",
    "#txt = re.sub('(\\. ){2,}','.',txt)\n",
    "txt.split('.')"
   ]
  },
  {
   "cell_type": "code",
   "execution_count": 176,
   "metadata": {},
   "outputs": [],
   "source": [
    "stopsents = ['당사','본 자료','증빙자료','그림','표','추이']\n",
    "#check = lambda x: '그림' in x or '니다' in x or '표' in x or '추이' in x\n",
    "check = lambda x: '니다' in x"
   ]
  },
  {
   "cell_type": "code",
   "execution_count": 200,
   "metadata": {},
   "outputs": [
    {
     "data": {
      "text/plain": [
       "['삼성전자 BUY 유지 목표주가 유지 원 현재주가 원 Up Downside 기업분석 반도체',\n",
       " '예고된 실적 부진 News 부진한 잠정 실적 발표 삼성전자는 매출액 원 영업 이익 원 의 잠정실적을 발표했다',\n",
       " '컨센서스는 원 우리 추정치는 원이었다',\n",
       " 'Comment 반도체는 업황부진에 일회성 요인까지 디스플레이 하회 삼성전자가 이미 실적 부진 가능성을 이례적인 공시로 경고하면서 arnings shock에 가까운 실적은 예견되었다',\n",
       " '반도체는 예상보다 큰 ASP 하락률에다 불량에 대한 충당금 반영으로 원에 못 미치는 영업이익 원 이 추정 된다',\n",
       " '디스플레이는 lexible OL D Rigid OL D T T LCD 등이 모두 부진해 예상보다 더 안 좋은 원의 영업적자가 추정된다',\n",
       " 'IM은 갤럭시S 판매량이 좋아서 원의 영업이익이 추정되어 대 사업부 중 가장 성과가 좋았던 것으로 보인다',\n",
       " '는 영업적인 상황만 보면 대비 더 안 좋다 일부 일회성 비용이 없어질 수 있겠지만 반도체 가격 하락률이 이상이라면 반도체 영업상황은 더 나빠질 것이다',\n",
       " '갤럭시S 판매량이 에 소폭 증가하나 마케팅비용도 동반 상승해 IM 영업이익은 감액이 예상된다',\n",
       " '디스플레이는 Rigid OL D 일부 개선으로 적자가 소폭 줄어들 전망이다',\n",
       " '이에 따라 전사 영업이익은 영업적인 상황만 놓고 볼 때 감액이 예상된다',\n",
       " 'com 삼성전자 좌 KOSPI지수대비 우 천원 pt 삼성전자 Action 아직 터널은 안 끝났다 월말 삼성전자 확정 실적 발표 후 실적을 정할 예정이다',\n",
       " '하반기에 대한 기대감을 꺾을 필요는 없지만 아직 반도체 시황 회복에 대한 구체적인 시그널도 없는 상황이다',\n",
       " '부진한 실적으로 실적 하향 추세는 한번 더 겪어야 한다',\n",
       " '그에 반해 주가는 정 없이 기대감이 선반영되어 견 했는데 신중한 접근이 필요해 보인다']"
      ]
     },
     "execution_count": 200,
     "metadata": {},
     "output_type": "execute_result"
    }
   ],
   "source": [
    "texts = [x.strip() for x in txt.split('.') if len(x)>=5 and len(x)<=200 and not check(x)]\n",
    "texts = list(pd.Series(texts).drop_duplicates())\n",
    "texts = [re.sub('조|억원|oQ|YoY',' ',x) for x in texts]\n",
    "texts = [re.sub('  +',' ',x) for x in texts]\n",
    "texts"
   ]
  },
  {
   "cell_type": "code",
   "execution_count": 201,
   "metadata": {},
   "outputs": [],
   "source": [
    "from krwordrank.sentence import summarize_with_sentences\n",
    "penalty = lambda x:0 if (25 <= len(x) <= 80) else 1\n",
    "stopwords = {'자료','것으로','기타','대한','있다.','으로','있으며','따라'}"
   ]
  },
  {
   "cell_type": "code",
   "execution_count": 211,
   "metadata": {},
   "outputs": [
    {
     "data": {
      "text/plain": [
       "['예고된 실적 부진 News 부진한 잠정 실적 발표 삼성전자는 매출액 원 영업 이익 원 의 잠정실적을 발표했다']"
      ]
     },
     "execution_count": 211,
     "metadata": {},
     "output_type": "execute_result"
    }
   ],
   "source": [
    "keywords, sents = summarize_with_sentences(\n",
    "    texts,\n",
    "    penalty=penalty,\n",
    "    stopwords = stopwords,\n",
    "    diversity=0.3,\n",
    "    num_keywords=10,\n",
    "    num_keysents=1,\n",
    "    scaling=lambda x:1,\n",
    "    verbose=False,\n",
    ")\n",
    "sents"
   ]
  },
  {
   "cell_type": "markdown",
   "metadata": {},
   "source": [
    "가장 거리가 먼 문장"
   ]
  },
  {
   "cell_type": "code",
   "execution_count": 212,
   "metadata": {},
   "outputs": [
    {
     "data": {
      "text/plain": [
       "{'컨센서스는 원 우리 추정치는 원이었다': 4.0}"
      ]
     },
     "execution_count": 212,
     "metadata": {},
     "output_type": "execute_result"
    }
   ],
   "source": [
    "from summarize_with_sentences2 import *\n",
    "keywords, sents = summarize_with_sentences2(\n",
    "    texts,\n",
    "    penalty=penalty,\n",
    "    stopwords = stopwords,\n",
    "    diversity=0.3,\n",
    "    num_keywords=10,\n",
    "    num_keysents=1,\n",
    "    scaling=lambda x:1,\n",
    "    verbose=False,\n",
    ")\n",
    "sents"
   ]
  },
  {
   "cell_type": "code",
   "execution_count": null,
   "metadata": {},
   "outputs": [],
   "source": []
  }
 ],
 "metadata": {
  "kernelspec": {
   "display_name": "Python 3",
   "language": "python",
   "name": "python3"
  },
  "language_info": {
   "codemirror_mode": {
    "name": "ipython",
    "version": 3
   },
   "file_extension": ".py",
   "mimetype": "text/x-python",
   "name": "python",
   "nbconvert_exporter": "python",
   "pygments_lexer": "ipython3",
   "version": "3.6.8"
  }
 },
 "nbformat": 4,
 "nbformat_minor": 4
}
